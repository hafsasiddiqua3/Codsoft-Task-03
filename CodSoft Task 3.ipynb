{
 "cells": [
  {
   "cell_type": "markdown",
   "id": "ade87cdb",
   "metadata": {},
   "source": [
    "# TASK 3: PASSWORD GENERATOR"
   ]
  },
  {
   "cell_type": "code",
   "execution_count": null,
   "id": "83df50d9",
   "metadata": {},
   "outputs": [],
   "source": [
    "import random\n",
    "import string\n",
    "\n",
    "def generate_password(length):\n",
    "    # Define the character sets for the password\n",
    "    lowercase_letters = string.ascii_lowercase\n",
    "    uppercase_letters = string.ascii_uppercase\n",
    "    digits = string.digits\n",
    "    special_characters = string.punctuation\n",
    "\n",
    "    # Combine all character sets\n",
    "    all_characters = lowercase_letters + uppercase_letters + digits + special_characters\n",
    "\n",
    "    # Ensure the length is at least 8 characters\n",
    "    length = max(length, 8)\n",
    "\n",
    "    # Generate a random password using the specified length\n",
    "    password = ''.join(random.choice(all_characters) for _ in range(length))\n",
    "\n",
    "    return password\n",
    "\n",
    "def main():\n",
    "    # Prompt the user for the desired password length\n",
    "    try:\n",
    "        length = int(input(\"Enter the desired length for the password: \"))\n",
    "    except ValueError:\n",
    "        print(\"Please enter a valid integer for the password length.\")\n",
    "        return\n",
    "\n",
    "    # Generate and display the password\n",
    "    password = generate_password(length)\n",
    "    print(f\"\\nGenerated Password: {password}\")\n",
    "\n",
    "if __name__ == \"__main__\":\n",
    "    main()\n"
   ]
  }
 ],
 "metadata": {
  "kernelspec": {
   "display_name": "Python 3 (ipykernel)",
   "language": "python",
   "name": "python3"
  },
  "language_info": {
   "codemirror_mode": {
    "name": "ipython",
    "version": 3
   },
   "file_extension": ".py",
   "mimetype": "text/x-python",
   "name": "python",
   "nbconvert_exporter": "python",
   "pygments_lexer": "ipython3",
   "version": "3.11.5"
  }
 },
 "nbformat": 4,
 "nbformat_minor": 5
}
